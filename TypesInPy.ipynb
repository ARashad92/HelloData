{
 "cells": [
  {
   "cell_type": "code",
   "execution_count": 1,
   "metadata": {},
   "outputs": [],
   "source": [
    "#This practice for data types in Pythone "
   ]
  },
  {
   "cell_type": "code",
   "execution_count": 4,
   "metadata": {},
   "outputs": [],
   "source": [
    "#Integer Type\n",
    "#in the below line of code we decleared a variable \"int_number\" and gave it value of 5\n",
    "#the type of the number by deafult became integer \n",
    "#if we change the value with diffrent type the variable type will change too \n",
    "int_number = 5 \n",
    "#the below line of code decleared a variable \"number\" and it has intger value we cant change it \n",
    "int number = 5\n"
   ]
  },
  {
   "cell_type": "code",
   "execution_count": 5,
   "metadata": {},
   "outputs": [],
   "source": [
    "#Float type \n",
    "# in the below line of code we declear a variable name \"float_number\" and gave it float value 10.5\n",
    "float_number = 10.5\n",
    "#We can declear a float variable that can only contain float value \n",
    "float real_number = 10.5\n"
   ]
  },
  {
   "cell_type": "code",
   "execution_count": 13,
   "metadata": {},
   "outputs": [
    {
     "data": {
      "text/plain": [
       "'A'"
      ]
     },
     "execution_count": 13,
     "metadata": {},
     "output_type": "execute_result"
    }
   ],
   "source": [
    "# String type\n",
    "#in the below line of code we decleared variable and gave it a string value \n",
    "name = \"Ahmed\"\n",
    "full_name = \"Ahmed Rashad Adly\"\n",
    "#string allow you to work with data text it has index and you can apply some function on it \n",
    "#the below code show you how to use indexing with string \n",
    "#you can see that the first litter has 0 index \n",
    "name[0]\n"
   ]
  },
  {
   "cell_type": "code",
   "execution_count": 12,
   "metadata": {},
   "outputs": [
    {
     "data": {
      "text/plain": [
       "5"
      ]
     },
     "execution_count": 12,
     "metadata": {},
     "output_type": "execute_result"
    }
   ],
   "source": [
    "#if we want to know the length of the string we can use the function len(name of the string variable)\n",
    "len(name)"
   ]
  },
  {
   "cell_type": "code",
   "execution_count": 14,
   "metadata": {},
   "outputs": [
    {
     "data": {
      "text/plain": [
       "'Ahm'"
      ]
     },
     "execution_count": 14,
     "metadata": {},
     "output_type": "execute_result"
    }
   ],
   "source": [
    "# we can show or print a part of our string by using slicing \n",
    "full_name[0:3]"
   ]
  },
  {
   "cell_type": "code",
   "execution_count": 15,
   "metadata": {},
   "outputs": [
    {
     "data": {
      "text/plain": [
       "'AmdRsa dy'"
      ]
     },
     "execution_count": 15,
     "metadata": {},
     "output_type": "execute_result"
    }
   ],
   "source": [
    "#we can also print a sequance litters from our string \n",
    "full_name[::2]"
   ]
  },
  {
   "cell_type": "code",
   "execution_count": 17,
   "metadata": {},
   "outputs": [
    {
     "name": "stdout",
     "output_type": "stream",
     "text": [
      "Hello Ahmed Rashad Adly \n"
     ]
    }
   ],
   "source": [
    "#.format function \n",
    "#it's function can replace {} to astring value EX below \n",
    "print (\"Hello {} \".format(full_name))"
   ]
  },
  {
   "cell_type": "code",
   "execution_count": 18,
   "metadata": {},
   "outputs": [
    {
     "data": {
      "text/plain": [
       "'ahmed rashad adly'"
      ]
     },
     "execution_count": 18,
     "metadata": {},
     "output_type": "execute_result"
    }
   ],
   "source": [
    "#Lower methode this method will convert any upper case litters to lower case Ex below\n",
    "full_name.lower()"
   ]
  },
  {
   "cell_type": "code",
   "execution_count": 19,
   "metadata": {},
   "outputs": [
    {
     "data": {
      "text/plain": [
       "'AHMED RASHAD ADLY'"
      ]
     },
     "execution_count": 19,
     "metadata": {},
     "output_type": "execute_result"
    }
   ],
   "source": [
    "#upper() methode will convert all lower case litter to upper case \n",
    "full_name.upper()"
   ]
  },
  {
   "cell_type": "code",
   "execution_count": 24,
   "metadata": {},
   "outputs": [
    {
     "data": {
      "text/plain": [
       "'hmed Rashad Adly'"
      ]
     },
     "execution_count": 24,
     "metadata": {},
     "output_type": "execute_result"
    }
   ],
   "source": [
    "#The string method .strip() can be used to remove characters from the beginning and end of a string.\n",
    "#EX. below\n",
    "full_name.strip(\"A\")"
   ]
  },
  {
   "cell_type": "code",
   "execution_count": 25,
   "metadata": {},
   "outputs": [
    {
     "name": "stdout",
     "output_type": "stream",
     "text": [
      "It's amazing to learn data scince wich me the beast\n"
     ]
    }
   ],
   "source": [
    "# there are a lot of function or methods you can use with String \n",
    "#just search for pythone string methods \n",
    "print(\"It's amazing to learn data scince wich me the beast\")"
   ]
  }
 ],
 "metadata": {
  "kernelspec": {
   "display_name": "Python 3",
   "language": "python",
   "name": "python3"
  },
  "language_info": {
   "codemirror_mode": {
    "name": "ipython",
    "version": 3
   },
   "file_extension": ".py",
   "mimetype": "text/x-python",
   "name": "python",
   "nbconvert_exporter": "python",
   "pygments_lexer": "ipython3",
   "version": "3.8.5"
  }
 },
 "nbformat": 4,
 "nbformat_minor": 4
}
